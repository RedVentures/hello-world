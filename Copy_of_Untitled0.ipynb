{
  "nbformat": 4,
  "nbformat_minor": 0,
  "metadata": {
    "colab": {
      "name": "Copy of Untitled0.ipynb",
      "provenance": [],
      "collapsed_sections": [],
      "authorship_tag": "ABX9TyPDUtNamzg2NE3AYKVg0CPg",
      "include_colab_link": true
    },
    "kernelspec": {
      "name": "python3",
      "display_name": "Python 3"
    }
  },
  "cells": [
    {
      "cell_type": "markdown",
      "metadata": {
        "id": "view-in-github",
        "colab_type": "text"
      },
      "source": [
        "<a href=\"https://colab.research.google.com/github/eczibere/hello-world/blob/master/Copy_of_Untitled0.ipynb\" target=\"_parent\"><img src=\"https://colab.research.google.com/assets/colab-badge.svg\" alt=\"Open In Colab\"/></a>"
      ]
    },
    {
      "cell_type": "code",
      "metadata": {
        "id": "9McX_H6puUg3",
        "colab_type": "code",
        "colab": {}
      },
      "source": [
        "In [ ]:\n",
        "# TODO\n",
        "Assign a new value with string type to the same varaible x and print its type.\n",
        "\n",
        "In [ ]:\n",
        "# \n",
        "Print the value of a variable that has not been defined, see what error do you get:\n",
        "\n",
        "In [ ]:\n",
        "# TODO\n",
        "\n",
        "Print the sum, difference, multiplication, and division between 1 and 2.\n",
        "\n",
        "In [ ]:\n",
        "# TODO\n",
        "Carry out Integer division of two float numbers.\n",
        "\n",
        "In [ ]:\n",
        "# TODO\n",
        "What is the value of 2 Power 15?\n",
        "\n",
        "In [ ]:\n",
        "# TODO\n",
        "Are the types of 1+2 and 1.0+2 the same?\n",
        "\n",
        "In [ ]:\n",
        "# TODO\n",
        "\n",
        "Compare two boolean True and False\n",
        "\n",
        "In [ ]:\n",
        "# TODO\n",
        "Use False to get True\n",
        "\n",
        "In [ ]:\n",
        "# TODO\n",
        "Include both False and True in your code to get True\n",
        "\n",
        "In [ ]:\n",
        "# TODO\n",
        "Use two different ways: == and is to check if l1 and l2 is identical.\n",
        "\n",
        "In [ ]:\n",
        "# TODO\n",
        "l1 = [1, 2]\n",
        "l2 = [1, 2.0]\n",
        "\n",
        "\n",
        "Create three string variables, and use one print to display all three variables.\n",
        "\n",
        "In [ ]:\n",
        "# TODO\n",
        "Check the length of \"Hello world!\".\n",
        "\n",
        "In [ ]:\n",
        "# TODO\n",
        "Get the index 0character in a string.\n",
        "\n",
        "In [ ]:\n",
        "# TODO\n",
        "Get the first 3 characters in a string.\n",
        "\n",
        "In [ ]:\n",
        "# TODO\n",
        "Use a start index and a stop index to get the fifth character in a string.\n",
        "\n",
        "In [ ]:\n",
        "# TODO\n",
        "s = \"Red Ventures\"\n",
        "Get the last character in a string."
      ],
      "execution_count": null,
      "outputs": []
    }
  ]
}